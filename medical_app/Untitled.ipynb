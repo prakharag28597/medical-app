{
 "cells": [
  {
   "cell_type": "code",
   "execution_count": null,
   "metadata": {
    "collapsed": true
   },
   "outputs": [],
   "source": [
    "import json\n",
    "import requests\n",
    "accessToken = \"a\"\n",
    "\n",
    "data = \"'{\\\"email\\\": \\\"saivamsi.n@gmail.com\\\"}'\"\n",
    "\n",
    "data = {\n",
    "   \"data\" : data,\n",
    "   \"clientKeyDetailsId\" : 1  \n",
    "}\n",
    "url = 'http://127.0.0.1:8000/api/common_api/organization/6/members/invite/'\n",
    "data = json.dumps(data)\n",
    "headers = {\"Content-Type\":\"application/json\", \"Authorization\": \"Bearer \"+accessToken}\n",
    "response = requests.post(url=url, data=data, headers=headers)\n",
    "print response\n",
    "print response.content"
   ]
  }
 ],
 "metadata": {
  "anaconda-cloud": {},
  "kernelspec": {
   "display_name": "Python [default]",
   "language": "python",
   "name": "python2"
  },
  "language_info": {
   "codemirror_mode": {
    "name": "ipython",
    "version": 2
   },
   "file_extension": ".py",
   "mimetype": "text/x-python",
   "name": "python",
   "nbconvert_exporter": "python",
   "pygments_lexer": "ipython2",
   "version": "2.7.12"
  }
 },
 "nbformat": 4,
 "nbformat_minor": 1
}
